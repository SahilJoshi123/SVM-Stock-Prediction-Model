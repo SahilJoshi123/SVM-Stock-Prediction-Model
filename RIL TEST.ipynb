{
 "cells": [
  {
   "cell_type": "code",
   "execution_count": 42,
   "metadata": {},
   "outputs": [],
   "source": [
    "import matplotlib.pyplot as plt\n",
    "from sklearn import linear_model\n",
    "import pandas as pd"
   ]
  },
  {
   "cell_type": "code",
   "execution_count": 31,
   "metadata": {},
   "outputs": [],
   "source": [
    "df = pd.read_csv('RIL.csv')"
   ]
  },
  {
   "cell_type": "code",
   "execution_count": 39,
   "metadata": {},
   "outputs": [
    {
     "data": {
      "text/html": [
       "<div>\n",
       "<style scoped>\n",
       "    .dataframe tbody tr th:only-of-type {\n",
       "        vertical-align: middle;\n",
       "    }\n",
       "\n",
       "    .dataframe tbody tr th {\n",
       "        vertical-align: top;\n",
       "    }\n",
       "\n",
       "    .dataframe thead th {\n",
       "        text-align: right;\n",
       "    }\n",
       "</style>\n",
       "<table border=\"1\" class=\"dataframe\">\n",
       "  <thead>\n",
       "    <tr style=\"text-align: right;\">\n",
       "      <th></th>\n",
       "      <th>Symbol</th>\n",
       "      <th>Series</th>\n",
       "      <th>Date</th>\n",
       "      <th>Prev Close</th>\n",
       "      <th>Open Price</th>\n",
       "      <th>High Price</th>\n",
       "      <th>Low Price</th>\n",
       "      <th>Last Price</th>\n",
       "      <th>Close Price</th>\n",
       "      <th>Average Price</th>\n",
       "      <th>Total Traded Quantity</th>\n",
       "      <th>Turnover</th>\n",
       "      <th>No. of Trades</th>\n",
       "      <th>Deliverable Qty</th>\n",
       "      <th>% Dly Qt to Traded Qty</th>\n",
       "    </tr>\n",
       "  </thead>\n",
       "  <tbody>\n",
       "    <tr>\n",
       "      <th>0</th>\n",
       "      <td>RELIANCE</td>\n",
       "      <td>EQ</td>\n",
       "      <td>18-Sep-2017</td>\n",
       "      <td>841.80</td>\n",
       "      <td>850.0</td>\n",
       "      <td>851.05</td>\n",
       "      <td>843.10</td>\n",
       "      <td>845.20</td>\n",
       "      <td>845.55</td>\n",
       "      <td>847.17</td>\n",
       "      <td>2314174</td>\n",
       "      <td>1.960494e+09</td>\n",
       "      <td>57137</td>\n",
       "      <td>918028</td>\n",
       "      <td>39.67</td>\n",
       "    </tr>\n",
       "    <tr>\n",
       "      <th>1</th>\n",
       "      <td>RELIANCE</td>\n",
       "      <td>EQ</td>\n",
       "      <td>19-Sep-2017</td>\n",
       "      <td>845.55</td>\n",
       "      <td>848.7</td>\n",
       "      <td>848.75</td>\n",
       "      <td>837.00</td>\n",
       "      <td>839.00</td>\n",
       "      <td>838.60</td>\n",
       "      <td>839.69</td>\n",
       "      <td>3528729</td>\n",
       "      <td>2.963056e+09</td>\n",
       "      <td>56976</td>\n",
       "      <td>2171370</td>\n",
       "      <td>61.53</td>\n",
       "    </tr>\n",
       "    <tr>\n",
       "      <th>2</th>\n",
       "      <td>RELIANCE</td>\n",
       "      <td>EQ</td>\n",
       "      <td>20-Sep-2017</td>\n",
       "      <td>838.60</td>\n",
       "      <td>856.1</td>\n",
       "      <td>872.50</td>\n",
       "      <td>845.10</td>\n",
       "      <td>848.00</td>\n",
       "      <td>847.15</td>\n",
       "      <td>855.91</td>\n",
       "      <td>11402965</td>\n",
       "      <td>9.759876e+09</td>\n",
       "      <td>147419</td>\n",
       "      <td>5286400</td>\n",
       "      <td>46.36</td>\n",
       "    </tr>\n",
       "    <tr>\n",
       "      <th>3</th>\n",
       "      <td>RELIANCE</td>\n",
       "      <td>EQ</td>\n",
       "      <td>21-Sep-2017</td>\n",
       "      <td>847.15</td>\n",
       "      <td>847.0</td>\n",
       "      <td>851.70</td>\n",
       "      <td>836.25</td>\n",
       "      <td>842.95</td>\n",
       "      <td>841.35</td>\n",
       "      <td>841.76</td>\n",
       "      <td>5920552</td>\n",
       "      <td>4.983709e+09</td>\n",
       "      <td>81741</td>\n",
       "      <td>3689024</td>\n",
       "      <td>62.31</td>\n",
       "    </tr>\n",
       "    <tr>\n",
       "      <th>4</th>\n",
       "      <td>RELIANCE</td>\n",
       "      <td>EQ</td>\n",
       "      <td>22-Sep-2017</td>\n",
       "      <td>841.35</td>\n",
       "      <td>839.9</td>\n",
       "      <td>839.90</td>\n",
       "      <td>813.20</td>\n",
       "      <td>816.95</td>\n",
       "      <td>817.40</td>\n",
       "      <td>824.67</td>\n",
       "      <td>5620443</td>\n",
       "      <td>4.635016e+09</td>\n",
       "      <td>97574</td>\n",
       "      <td>2686568</td>\n",
       "      <td>47.80</td>\n",
       "    </tr>\n",
       "  </tbody>\n",
       "</table>\n",
       "</div>"
      ],
      "text/plain": [
       "     Symbol Series         Date  Prev Close  Open Price  High Price  \\\n",
       "0  RELIANCE     EQ  18-Sep-2017      841.80       850.0      851.05   \n",
       "1  RELIANCE     EQ  19-Sep-2017      845.55       848.7      848.75   \n",
       "2  RELIANCE     EQ  20-Sep-2017      838.60       856.1      872.50   \n",
       "3  RELIANCE     EQ  21-Sep-2017      847.15       847.0      851.70   \n",
       "4  RELIANCE     EQ  22-Sep-2017      841.35       839.9      839.90   \n",
       "\n",
       "   Low Price  Last Price  Close Price  Average Price  Total Traded Quantity  \\\n",
       "0     843.10      845.20       845.55         847.17                2314174   \n",
       "1     837.00      839.00       838.60         839.69                3528729   \n",
       "2     845.10      848.00       847.15         855.91               11402965   \n",
       "3     836.25      842.95       841.35         841.76                5920552   \n",
       "4     813.20      816.95       817.40         824.67                5620443   \n",
       "\n",
       "       Turnover  No. of Trades  Deliverable Qty  % Dly Qt to Traded Qty  \n",
       "0  1.960494e+09          57137           918028                   39.67  \n",
       "1  2.963056e+09          56976          2171370                   61.53  \n",
       "2  9.759876e+09         147419          5286400                   46.36  \n",
       "3  4.983709e+09          81741          3689024                   62.31  \n",
       "4  4.635016e+09          97574          2686568                   47.80  "
      ]
     },
     "execution_count": 39,
     "metadata": {},
     "output_type": "execute_result"
    }
   ],
   "source": [
    "df.head()"
   ]
  },
  {
   "cell_type": "code",
   "execution_count": 70,
   "metadata": {},
   "outputs": [
    {
     "data": {
      "text/html": [
       "<div>\n",
       "<style scoped>\n",
       "    .dataframe tbody tr th:only-of-type {\n",
       "        vertical-align: middle;\n",
       "    }\n",
       "\n",
       "    .dataframe tbody tr th {\n",
       "        vertical-align: top;\n",
       "    }\n",
       "\n",
       "    .dataframe thead th {\n",
       "        text-align: right;\n",
       "    }\n",
       "</style>\n",
       "<table border=\"1\" class=\"dataframe\">\n",
       "  <thead>\n",
       "    <tr style=\"text-align: right;\">\n",
       "      <th></th>\n",
       "      <th>Prev Close</th>\n",
       "      <th>Close Price</th>\n",
       "    </tr>\n",
       "  </thead>\n",
       "  <tbody>\n",
       "    <tr>\n",
       "      <th>0</th>\n",
       "      <td>841.80</td>\n",
       "      <td>845.55</td>\n",
       "    </tr>\n",
       "    <tr>\n",
       "      <th>1</th>\n",
       "      <td>845.55</td>\n",
       "      <td>838.60</td>\n",
       "    </tr>\n",
       "    <tr>\n",
       "      <th>2</th>\n",
       "      <td>838.60</td>\n",
       "      <td>847.15</td>\n",
       "    </tr>\n",
       "    <tr>\n",
       "      <th>3</th>\n",
       "      <td>847.15</td>\n",
       "      <td>841.35</td>\n",
       "    </tr>\n",
       "    <tr>\n",
       "      <th>4</th>\n",
       "      <td>841.35</td>\n",
       "      <td>817.40</td>\n",
       "    </tr>\n",
       "  </tbody>\n",
       "</table>\n",
       "</div>"
      ],
      "text/plain": [
       "   Prev Close  Close Price\n",
       "0      841.80       845.55\n",
       "1      845.55       838.60\n",
       "2      838.60       847.15\n",
       "3      847.15       841.35\n",
       "4      841.35       817.40"
      ]
     },
     "execution_count": 70,
     "metadata": {},
     "output_type": "execute_result"
    }
   ],
   "source": [
    "dfPlot = pd.DataFrame(df, columns=['Prev Close','Close Price'])\n",
    "dfPlot.head()\n",
    "#dfPlot.plot(x='Prev Close', y= 'Close Price', kind ='scatter')"
   ]
  },
  {
   "cell_type": "code",
   "execution_count": 61,
   "metadata": {},
   "outputs": [
    {
     "data": {
      "text/plain": [
       "903.51"
      ]
     },
     "execution_count": 61,
     "metadata": {},
     "output_type": "execute_result"
    }
   ],
   "source": []
  },
  {
   "cell_type": "code",
   "execution_count": 62,
   "metadata": {},
   "outputs": [
    {
     "data": {
      "text/plain": [
       "array([900.52432762])"
      ]
     },
     "execution_count": 62,
     "metadata": {},
     "output_type": "execute_result"
    }
   ],
   "source": []
  }
 ],
 "metadata": {
  "kernelspec": {
   "display_name": "Python 3",
   "language": "python",
   "name": "python3"
  },
  "language_info": {
   "codemirror_mode": {
    "name": "ipython",
    "version": 3
   },
   "file_extension": ".py",
   "mimetype": "text/x-python",
   "name": "python",
   "nbconvert_exporter": "python",
   "pygments_lexer": "ipython3",
   "version": "3.7.4"
  }
 },
 "nbformat": 4,
 "nbformat_minor": 2
}
